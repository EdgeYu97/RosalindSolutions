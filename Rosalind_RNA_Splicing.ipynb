{
  "nbformat": 4,
  "nbformat_minor": 0,
  "metadata": {
    "colab": {
      "provenance": [],
      "authorship_tag": "ABX9TyObUsWHKyDJkoSLQGVl/iT8",
      "include_colab_link": true
    },
    "kernelspec": {
      "name": "python3",
      "display_name": "Python 3"
    },
    "language_info": {
      "name": "python"
    }
  },
  "cells": [
    {
      "cell_type": "markdown",
      "metadata": {
        "id": "view-in-github",
        "colab_type": "text"
      },
      "source": [
        "<a href=\"https://colab.research.google.com/github/EdgeYu97/RosalindSolutions/blob/main/Rosalind_RNA_Splicing.ipynb\" target=\"_parent\"><img src=\"https://colab.research.google.com/assets/colab-badge.svg\" alt=\"Open In Colab\"/></a>"
      ]
    },
    {
      "cell_type": "code",
      "source": [
        "def parse_fasta(lines):\n",
        "\n",
        "    fasta_data = []\n",
        "    header = None\n",
        "    seq_chunks = []\n",
        "\n",
        "    for line in lines:\n",
        "        line = line.strip()\n",
        "        if line.startswith(\">\"):\n",
        "\n",
        "            if header and seq_chunks:\n",
        "                fasta_data.append((header, \"\".join(seq_chunks)))\n",
        "            header = line[1:]\n",
        "            seq_chunks = []\n",
        "        else:\n",
        "            seq_chunks.append(line)\n",
        "\n",
        "\n",
        "    if header and seq_chunks:\n",
        "        fasta_data.append((header, \"\".join(seq_chunks)))\n",
        "\n",
        "    return fasta_data\n",
        "\n",
        "def translate_rna_to_protein(rna):\n",
        "\n",
        "    codon_table = {\n",
        "\n",
        "        'UUU': 'F', 'UUC': 'F', 'UUA': 'L', 'UUG': 'L',\n",
        "        'UCU': 'S', 'UCC': 'S', 'UCA': 'S', 'UCG': 'S',\n",
        "        'UAU': 'Y', 'UAC': 'Y', 'UAA': 'Stop', 'UAG': 'Stop',\n",
        "        'UGU': 'C', 'UGC': 'C', 'UGA': 'Stop', 'UGG': 'W',\n",
        "        'CUU': 'L', 'CUC': 'L', 'CUA': 'L', 'CUG': 'L',\n",
        "        'CCU': 'P', 'CCC': 'P', 'CCA': 'P', 'CCG': 'P',\n",
        "        'CAU': 'H', 'CAC': 'H', 'CAA': 'Q', 'CAG': 'Q',\n",
        "        'CGU': 'R', 'CGC': 'R', 'CGA': 'R', 'CGG': 'R',\n",
        "        'AUU': 'I', 'AUC': 'I', 'AUA': 'I', 'AUG': 'M',\n",
        "        'ACU': 'T', 'ACC': 'T', 'ACA': 'T', 'ACG': 'T',\n",
        "        'AAU': 'N', 'AAC': 'N', 'AAA': 'K', 'AAG': 'K',\n",
        "        'AGU': 'S', 'AGC': 'S', 'AGA': 'R', 'AGG': 'R',\n",
        "        'GUU': 'V', 'GUC': 'V', 'GUA': 'V', 'GUG': 'V',\n",
        "        'GCU': 'A', 'GCC': 'A', 'GCA': 'A', 'GCG': 'A',\n",
        "        'GAU': 'D', 'GAC': 'D', 'GAA': 'E', 'GAG': 'E',\n",
        "        'GGU': 'G', 'GGC': 'G', 'GGA': 'G', 'GGG': 'G'\n",
        "    }\n",
        "    protein = []\n",
        "\n",
        "    for i in range(0, len(rna), 3):\n",
        "        codon = rna[i : i + 3]\n",
        "        if len(codon) < 3:\n",
        "            break\n",
        "        aa = codon_table[codon]\n",
        "        if aa == \"Stop\":\n",
        "            break\n",
        "        protein.append(aa)\n",
        "    return \"\".join(protein)\n",
        "\n",
        "\n",
        "if __name__ == \"__main__\":\n",
        "\n",
        "    fasta_data = \"\"\">Rosalind_10\n",
        "ATGGTCTACATAGCTGACAAACAGCACGTAGCAATCGGTCGAATCTCGAGAGGCATATGGTCACATGATCGGTCGAGCGTGTTTCAAAGTTTGCGCCTAG\n",
        ">Rosalind_12\n",
        "ATCGGTCGAA\n",
        ">Rosalind_15\n",
        "ATCGGTCGAGCGTGT\"\"\"\n",
        "\n",
        "\n",
        "    fasta_lines = fasta_data.split('\\n')\n",
        "\n",
        "\n",
        "    fasta_entries = parse_fasta(fasta_lines)\n",
        "\n",
        "\n",
        "    main_dna = fasta_entries[0][1]\n",
        "    introns = [seq for (_, seq) in fasta_entries[1:]]\n",
        "\n",
        "\n",
        "    for intron in introns:\n",
        "        main_dna = main_dna.replace(intron, \"\")\n",
        "\n",
        "\n",
        "    rna = main_dna.replace(\"T\", \"U\")\n",
        "\n",
        "\n",
        "    protein = translate_rna_to_protein(rna)\n",
        "\n",
        "\n",
        "    print(protein)"
      ],
      "metadata": {
        "colab": {
          "base_uri": "https://localhost:8080/"
        },
        "id": "abOl9EwYmdnd",
        "outputId": "708c888c-a973-479e-b9ae-1378f0798147"
      },
      "execution_count": 7,
      "outputs": [
        {
          "output_type": "stream",
          "name": "stdout",
          "text": [
            "MVYIADKQHVASREAYGHMFKVCA\n"
          ]
        }
      ]
    }
  ]
}