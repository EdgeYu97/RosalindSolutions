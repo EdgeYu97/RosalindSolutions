{
  "nbformat": 4,
  "nbformat_minor": 0,
  "metadata": {
    "colab": {
      "provenance": [],
      "authorship_tag": "ABX9TyMe4/LMsJpuCws1JVSBcCiy",
      "include_colab_link": true
    },
    "kernelspec": {
      "name": "python3",
      "display_name": "Python 3"
    },
    "language_info": {
      "name": "python"
    }
  },
  "cells": [
    {
      "cell_type": "markdown",
      "metadata": {
        "id": "view-in-github",
        "colab_type": "text"
      },
      "source": [
        "<a href=\"https://colab.research.google.com/github/EdgeYu97/RosalindSolutions/blob/main/Finding_a_Motif_in_DNA.ipynb\" target=\"_parent\"><img src=\"https://colab.research.google.com/assets/colab-badge.svg\" alt=\"Open In Colab\"/></a>"
      ]
    },
    {
      "cell_type": "code",
      "execution_count": 21,
      "metadata": {
        "colab": {
          "base_uri": "https://localhost:8080/"
        },
        "id": "ZaoX7BhOiNhy",
        "outputId": "fb524ce0-7b55-407e-a6e6-229ce1f7e40c"
      },
      "outputs": [
        {
          "output_type": "stream",
          "name": "stdout",
          "text": [
            "[2, 4, 10]\n"
          ]
        }
      ],
      "source": [
        "s = \"GATATATGCATATACTT\"\n",
        "\n",
        "t = \"ATAT\"\n",
        "\n",
        "def find_substring_locations(s, t):\n",
        "    locations = []\n",
        "    for i in range(len(s)):\n",
        "        if s[i:i+len(t)] == t:\n",
        "            locations.append(i+1)\n",
        "    return locations\n",
        "    result = find_substring_locations(s, t)\n",
        "print(find_substring_locations(s,t))\n",
        "\n"
      ]
    }
  ]
}