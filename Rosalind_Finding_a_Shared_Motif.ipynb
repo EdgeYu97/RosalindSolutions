{
  "nbformat": 4,
  "nbformat_minor": 0,
  "metadata": {
    "colab": {
      "provenance": [],
      "authorship_tag": "ABX9TyO/JrpmOlS/TuBhRzt67IcS",
      "include_colab_link": true
    },
    "kernelspec": {
      "name": "python3",
      "display_name": "Python 3"
    },
    "language_info": {
      "name": "python"
    }
  },
  "cells": [
    {
      "cell_type": "markdown",
      "metadata": {
        "id": "view-in-github",
        "colab_type": "text"
      },
      "source": [
        "<a href=\"https://colab.research.google.com/github/EdgeYu97/RosalindSolutions/blob/main/Rosalind_Finding_a_Shared_Motif.ipynb\" target=\"_parent\"><img src=\"https://colab.research.google.com/assets/colab-badge.svg\" alt=\"Open In Colab\"/></a>"
      ]
    },
    {
      "cell_type": "code",
      "execution_count": 20,
      "metadata": {
        "colab": {
          "base_uri": "https://localhost:8080/"
        },
        "id": "69nb6uGNsIb8",
        "outputId": "5be9d6a0-6cd4-4552-95cb-93a01e111113"
      },
      "outputs": [
        {
          "output_type": "stream",
          "name": "stdout",
          "text": [
            "['TA', 'AC', 'CA']\n"
          ]
        }
      ],
      "source": [
        "def find_longest_common_substring(strings):\n",
        "\n",
        "    if not strings:\n",
        "        return \"\"\n",
        "\n",
        "    shortest = min(strings, key=len)\n",
        "    candidate_substrings = []\n",
        "\n",
        "    for length in range(len(shortest), 0, -1):\n",
        "        for i in range(len(shortest) - length + 1):\n",
        "            candidate_substrings.append(shortest[i:i+length])\n",
        "\n",
        "    candidate_substrings.sort(key=len, reverse=True)\n",
        "\n",
        "    for substring in candidate_substrings:\n",
        "        if all(substring in s for s in strings):\n",
        "            return substring\n",
        "\n",
        "    return \"\"\n",
        "\n",
        "def parse_fasta(fasta_text):\n",
        "    sequences = []\n",
        "    current_seq = []\n",
        "\n",
        "    for line in fasta_text.strip().split('\\n'):\n",
        "        if line.startswith('>'):\n",
        "            if current_seq:\n",
        "                sequences.append(''.join(current_seq))\n",
        "            current_seq = []\n",
        "        else:\n",
        "            current_seq.append(line)\n",
        "\n",
        "    if current_seq:\n",
        "        sequences.append(''.join(current_seq))\n",
        "\n",
        "    return sequences\n",
        "\n",
        "fasta_data = \"\"\">Rosalind_1\n",
        "GATTACA\n",
        ">Rosalind_2\n",
        "TAGACCA\n",
        ">Rosalind_3\n",
        "ATACA\"\"\"\n",
        "\n",
        "sequences = parse_fasta(fasta_data)\n",
        "\n",
        "\n",
        "substrs = []\n",
        "for s in sequences:\n",
        "    for length in range(2, len(s) + 1):\n",
        "        for i in range(len(s) - length + 1):\n",
        "            substrs.append(s[i:i+length])\n",
        "\n",
        "\n",
        "from collections import Counter\n",
        "counts = Counter(substrs)\n",
        "\n",
        "\n",
        "common_substrings = {}\n",
        "for sub in counts:\n",
        "    common_in_all = True\n",
        "    for s in sequences:\n",
        "        if sub not in s:\n",
        "            common_in_all = False\n",
        "            break\n",
        "    if common_in_all:\n",
        "        common_substrings[sub] = len(sub)\n",
        "\n",
        "longest_common = [sub for sub, length in common_substrings.items() if length == longest_length]\n",
        "\n",
        "print(longest_common)"
      ]
    }
  ]
}