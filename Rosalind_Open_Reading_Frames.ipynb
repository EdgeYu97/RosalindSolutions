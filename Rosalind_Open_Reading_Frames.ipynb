{
  "nbformat": 4,
  "nbformat_minor": 0,
  "metadata": {
    "colab": {
      "provenance": [],
      "authorship_tag": "ABX9TyPCVlkFJKmrVEYnNrcXsbHf",
      "include_colab_link": true
    },
    "kernelspec": {
      "name": "python3",
      "display_name": "Python 3"
    },
    "language_info": {
      "name": "python"
    }
  },
  "cells": [
    {
      "cell_type": "markdown",
      "metadata": {
        "id": "view-in-github",
        "colab_type": "text"
      },
      "source": [
        "<a href=\"https://colab.research.google.com/github/EdgeYu97/RosalindSolutions/blob/main/Rosalind_Open_Reading_Frames.ipynb\" target=\"_parent\"><img src=\"https://colab.research.google.com/assets/colab-badge.svg\" alt=\"Open In Colab\"/></a>"
      ]
    },
    {
      "cell_type": "code",
      "execution_count": 2,
      "metadata": {
        "colab": {
          "base_uri": "https://localhost:8080/"
        },
        "id": "iZoICKpOuCCr",
        "outputId": "aa17189c-1af1-4fb3-b52c-1c394bab476f"
      },
      "outputs": [
        {
          "output_type": "stream",
          "name": "stdout",
          "text": [
            "MTPRLGLESLLE\n",
            "M\n",
            "MGMTPRLGLESLLE\n",
            "MLLGSFRLIPKETLIQVAGSSPCNLS\n"
          ]
        }
      ],
      "source": [
        "def parse_fasta(fasta):\n",
        "    lines = fasta.strip().split('\\n')\n",
        "    sequence = ''.join(lines[1:])\n",
        "    return sequence\n",
        "\n",
        "def reverse_complement(dna):\n",
        "    complement = {'A': 'T', 'C': 'G', 'G': 'C', 'T': 'A'}\n",
        "    return ''.join(complement[base] for base in reversed(dna))\n",
        "\n",
        "def translate(rna):\n",
        "    codon_table = {\n",
        "        'UUU': 'F', 'UUC': 'F', 'UUA': 'L', 'UUG': 'L',\n",
        "        'CUU': 'L', 'CUC': 'L', 'CUA': 'L', 'CUG': 'L',\n",
        "        'AUU': 'I', 'AUC': 'I', 'AUA': 'I', 'AUG': 'M',\n",
        "        'GUU': 'V', 'GUC': 'V', 'GUA': 'V', 'GUG': 'V',\n",
        "        'UCU': 'S', 'UCC': 'S', 'UCA': 'S', 'UCG': 'S',\n",
        "        'CCU': 'P', 'CCC': 'P', 'CCA': 'P', 'CCG': 'P',\n",
        "        'ACU': 'T', 'ACC': 'T', 'ACA': 'T', 'ACG': 'T',\n",
        "        'GCU': 'A', 'GCC': 'A', 'GCA': 'A', 'GCG': 'A',\n",
        "        'UAU': 'Y', 'UAC': 'Y', 'UAA': '*', 'UAG': '*',\n",
        "        'CAU': 'H', 'CAC': 'H', 'CAA': 'Q', 'CAG': 'Q',\n",
        "        'AAU': 'N', 'AAC': 'N', 'AAA': 'K', 'AAG': 'K',\n",
        "        'GAU': 'D', 'GAC': 'D', 'GAA': 'E', 'GAG': 'E',\n",
        "        'UGU': 'C', 'UGC': 'C', 'UGA': '*', 'UGG': 'W',\n",
        "        'CGU': 'R', 'CGC': 'R', 'CGA': 'R', 'CGG': 'R',\n",
        "        'AGU': 'S', 'AGC': 'S', 'AGA': 'R', 'AGG': 'R',\n",
        "        'GGU': 'G', 'GGC': 'G', 'GGA': 'G', 'GGG': 'G'\n",
        "    }\n",
        "\n",
        "    protein = \"\"\n",
        "    for i in range(0, len(rna), 3):\n",
        "        if i + 3 <= len(rna):\n",
        "            codon = rna[i:i+3]\n",
        "            amino_acid = codon_table[codon]\n",
        "            if amino_acid == '*':  # Stop codon\n",
        "                break\n",
        "            protein += amino_acid\n",
        "\n",
        "    return protein\n",
        "\n",
        "def find_orfs(dna):\n",
        "    proteins = set()\n",
        "\n",
        "    # Consider both the original DNA and its reverse complement\n",
        "    for strand in [dna, reverse_complement(dna)]:\n",
        "        # Consider all three reading frames\n",
        "        for frame in range(3):\n",
        "            # Convert DNA to RNA\n",
        "            rna = strand[frame:].replace('T', 'U')\n",
        "\n",
        "            # Find all start codons\n",
        "            i = 0\n",
        "            while i < len(rna) - 2:\n",
        "                # Check if current position is a start codon\n",
        "                if rna[i:i+3] == 'AUG':\n",
        "                    # Translate from start codon to the next stop codon\n",
        "                    j = i\n",
        "                    while j < len(rna) - 2:\n",
        "                        codon = rna[j:j+3]\n",
        "                        if len(codon) < 3:  # Incomplete codon\n",
        "                            break\n",
        "                        if codon in ['UAA', 'UAG', 'UGA']:  # Stop codon\n",
        "                            protein = translate(rna[i:j+3])\n",
        "                            if protein:  # Only add non-empty proteins\n",
        "                                proteins.add(protein)\n",
        "                            break\n",
        "                        j += 3\n",
        "                i += 1\n",
        "\n",
        "    return list(proteins)\n",
        "\n",
        "# Process the sample data\n",
        "fasta_data = \">Rosalind_99\\nAGCCATGTAGCTAACTCAGGTTACATGGGGATGACCCCGCGACTTGGATTAGAGTCTCTTTTGGAATAAGCCTGAATGATCCGAGTAGCATCTCAG\"\n",
        "dna = parse_fasta(fasta_data)\n",
        "protein_sequences = find_orfs(dna)\n",
        "\n",
        "# Print the results\n",
        "for protein in protein_sequences:\n",
        "    print(protein)"
      ]
    }
  ]
}