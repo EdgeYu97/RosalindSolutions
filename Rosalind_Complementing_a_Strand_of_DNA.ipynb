{
  "nbformat": 4,
  "nbformat_minor": 0,
  "metadata": {
    "colab": {
      "provenance": [],
      "authorship_tag": "ABX9TyMBqGpTnBd2yjNmui6n2bHo",
      "include_colab_link": true
    },
    "kernelspec": {
      "name": "python3",
      "display_name": "Python 3"
    },
    "language_info": {
      "name": "python"
    }
  },
  "cells": [
    {
      "cell_type": "markdown",
      "metadata": {
        "id": "view-in-github",
        "colab_type": "text"
      },
      "source": [
        "<a href=\"https://colab.research.google.com/github/EdgeYu97/RosalindSolutions/blob/main/Rosalind_Complementing_a_Strand_of_DNA.ipynb\" target=\"_parent\"><img src=\"https://colab.research.google.com/assets/colab-badge.svg\" alt=\"Open In Colab\"/></a>"
      ]
    },
    {
      "cell_type": "code",
      "execution_count": 6,
      "metadata": {
        "colab": {
          "base_uri": "https://localhost:8080/"
        },
        "id": "QdRqpOgTYp0k",
        "outputId": "b62bfdf9-e2ec-466f-c415-f16d26366d79"
      },
      "outputs": [
        {
          "output_type": "stream",
          "name": "stdout",
          "text": [
            "TGGCCCAAAA\n",
            "ACCGGGTTTT\n"
          ]
        }
      ],
      "source": [
        "DNA_String = 'AAAACCCGGT'\n",
        "\n",
        "Reversed_DNA_String= DNA_String [::-1]\n",
        "\n",
        "print (Reversed_DNA_String)\n",
        "\n",
        "Complement_DNA = Reversed_DNA_String.replace('A','t').replace('T','a').replace('C','g').replace('G','c')\n",
        "\n",
        "print (Complement_DNA.upper())"
      ]
    }
  ]
}