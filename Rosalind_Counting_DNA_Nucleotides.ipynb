{
  "nbformat": 4,
  "nbformat_minor": 0,
  "metadata": {
    "colab": {
      "provenance": [],
      "authorship_tag": "ABX9TyP8r0l9fBVhDnbX6YVRKe1U",
      "include_colab_link": true
    },
    "kernelspec": {
      "name": "python3",
      "display_name": "Python 3"
    },
    "language_info": {
      "name": "python"
    }
  },
  "cells": [
    {
      "cell_type": "markdown",
      "metadata": {
        "id": "view-in-github",
        "colab_type": "text"
      },
      "source": [
        "<a href=\"https://colab.research.google.com/github/EdgeYu97/RosalindSolutions/blob/main/Rosalind_Counting_DNA_Nucleotides.ipynb\" target=\"_parent\"><img src=\"https://colab.research.google.com/assets/colab-badge.svg\" alt=\"Open In Colab\"/></a>"
      ]
    },
    {
      "cell_type": "code",
      "execution_count": 1,
      "metadata": {
        "colab": {
          "base_uri": "https://localhost:8080/"
        },
        "id": "lp4ESMxXVXq6",
        "outputId": "21e0949f-4505-419b-91c7-ad7bdec8c40b"
      },
      "outputs": [
        {
          "output_type": "stream",
          "name": "stdout",
          "text": [
            "20\n",
            "21\n",
            "12\n",
            "17\n"
          ]
        }
      ],
      "source": [
        "string = 'AGCTTTTCATTCTGACTGCAACGGGCAATATGTCTCTGTGTGGATTAAAAAAAGAGTGTCTGATAGCAGC'\n",
        "\n",
        "print(string.count('A'))\n",
        "print(string.count('T'))\n",
        "print(string.count('C'))\n",
        "print(string.count('G'))"
      ]
    }
  ]
}