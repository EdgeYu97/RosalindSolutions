{
  "nbformat": 4,
  "nbformat_minor": 0,
  "metadata": {
    "colab": {
      "provenance": [],
      "authorship_tag": "ABX9TyO0UqPN9kbM8zf89/oc9OV0",
      "include_colab_link": true
    },
    "kernelspec": {
      "name": "python3",
      "display_name": "Python 3"
    },
    "language_info": {
      "name": "python"
    }
  },
  "cells": [
    {
      "cell_type": "markdown",
      "metadata": {
        "id": "view-in-github",
        "colab_type": "text"
      },
      "source": [
        "<a href=\"https://colab.research.google.com/github/EdgeYu97/RosalindSolutions/blob/main/Rosalind_Transcribing_DNA_into_RNA.ipynb\" target=\"_parent\"><img src=\"https://colab.research.google.com/assets/colab-badge.svg\" alt=\"Open In Colab\"/></a>"
      ]
    },
    {
      "cell_type": "code",
      "execution_count": 1,
      "metadata": {
        "colab": {
          "base_uri": "https://localhost:8080/"
        },
        "id": "9j66AW3OXMlJ",
        "outputId": "399ba370-fb69-40e7-ea9e-2e0485c2984e"
      },
      "outputs": [
        {
          "output_type": "stream",
          "name": "stdout",
          "text": [
            "GAUGGAACUUGACUACGUAAAUU\n"
          ]
        }
      ],
      "source": [
        "DNA_string = 'GATGGAACTTGACTACGTAAATT'\n",
        "\n",
        "RNA_string = DNA_string.replace('T', 'U')\n",
        "\n",
        "print(RNA_string)"
      ]
    }
  ]
}