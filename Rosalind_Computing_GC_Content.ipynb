{
  "nbformat": 4,
  "nbformat_minor": 0,
  "metadata": {
    "colab": {
      "provenance": [],
      "authorship_tag": "ABX9TyOgBgQGD8IdqSOCiMC2HClx",
      "include_colab_link": true
    },
    "kernelspec": {
      "name": "python3",
      "display_name": "Python 3"
    },
    "language_info": {
      "name": "python"
    }
  },
  "cells": [
    {
      "cell_type": "markdown",
      "metadata": {
        "id": "view-in-github",
        "colab_type": "text"
      },
      "source": [
        "<a href=\"https://colab.research.google.com/github/EdgeYu97/RosalindSolutions/blob/main/Rosalind_Computing_GC_Content.ipynb\" target=\"_parent\"><img src=\"https://colab.research.google.com/assets/colab-badge.svg\" alt=\"Open In Colab\"/></a>"
      ]
    },
    {
      "cell_type": "code",
      "execution_count": 2,
      "metadata": {
        "colab": {
          "base_uri": "https://localhost:8080/"
        },
        "id": "rYdgRwGPa29n",
        "outputId": "c11aab0e-18d8-4b96-dcf5-41c6f50573ec"
      },
      "outputs": [
        {
          "output_type": "stream",
          "name": "stdout",
          "text": [
            "53.75\n"
          ]
        }
      ],
      "source": [
        "Rosalind_6404 = 'CCTGCGGAAGATCGGCACTAGAATAGCCAGAACCGTTTCTCTGAGGCTTCCGGCCTTCCCTCCCACTAATAATTCTGAGG'\n",
        "\n",
        "GC = Rosalind_6404.count('G') + Rosalind_6404.count('C')\n",
        "Total = Rosalind_6404.count('G') + Rosalind_6404.count('C') + Rosalind_6404.count('A') + Rosalind_6404.count('T')\n",
        "\n",
        "GC_Content = (GC/Total) *100\n",
        "\n",
        "print (GC_Content)"
      ]
    }
  ]
}