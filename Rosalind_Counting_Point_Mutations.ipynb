{
  "nbformat": 4,
  "nbformat_minor": 0,
  "metadata": {
    "colab": {
      "provenance": [],
      "authorship_tag": "ABX9TyNdumEJrwrAS/eDBetV5M3F",
      "include_colab_link": true
    },
    "kernelspec": {
      "name": "python3",
      "display_name": "Python 3"
    },
    "language_info": {
      "name": "python"
    }
  },
  "cells": [
    {
      "cell_type": "markdown",
      "metadata": {
        "id": "view-in-github",
        "colab_type": "text"
      },
      "source": [
        "<a href=\"https://colab.research.google.com/github/EdgeYu97/RosalindSolutions/blob/main/Rosalind_Counting_Point_Mutations.ipynb\" target=\"_parent\"><img src=\"https://colab.research.google.com/assets/colab-badge.svg\" alt=\"Open In Colab\"/></a>"
      ]
    },
    {
      "cell_type": "code",
      "execution_count": 4,
      "metadata": {
        "colab": {
          "base_uri": "https://localhost:8080/"
        },
        "id": "l3fG6uykeV_t",
        "outputId": "350c0d7f-7c0e-4113-c6c0-fd861a78f34a"
      },
      "outputs": [
        {
          "output_type": "stream",
          "name": "stdout",
          "text": [
            "7\n"
          ]
        }
      ],
      "source": [
        "str1 = 'GAGCCTACTAACGGGAT'\n",
        "\n",
        "str2 = 'CATCGTAATGACGGCCT'\n",
        "\n",
        "def mutation_counter(seq1, seq2):\n",
        "    mutations = 0\n",
        "\n",
        "    for i in range(len(seq1)):\n",
        "        if seq1[i] != seq2[i]:\n",
        "            mutations += 1\n",
        "\n",
        "    return mutations\n",
        "\n",
        "print(mutation_counter(str1, str2))"
      ]
    }
  ]
}