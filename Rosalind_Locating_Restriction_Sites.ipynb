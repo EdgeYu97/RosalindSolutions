{
  "nbformat": 4,
  "nbformat_minor": 0,
  "metadata": {
    "colab": {
      "provenance": [],
      "authorship_tag": "ABX9TyOyLmfHk00kh07w3o2aH8g4",
      "include_colab_link": true
    },
    "kernelspec": {
      "name": "python3",
      "display_name": "Python 3"
    },
    "language_info": {
      "name": "python"
    }
  },
  "cells": [
    {
      "cell_type": "markdown",
      "metadata": {
        "id": "view-in-github",
        "colab_type": "text"
      },
      "source": [
        "<a href=\"https://colab.research.google.com/github/EdgeYu97/RosalindSolutions/blob/main/Rosalind_Locating_Restriction_Sites.ipynb\" target=\"_parent\"><img src=\"https://colab.research.google.com/assets/colab-badge.svg\" alt=\"Open In Colab\"/></a>"
      ]
    },
    {
      "cell_type": "code",
      "execution_count": 16,
      "metadata": {
        "colab": {
          "base_uri": "https://localhost:8080/"
        },
        "id": "iBLbTIg7nLi9",
        "outputId": "a9c0cbf8-3418-480b-9e09-be8b1de08d84"
      },
      "outputs": [
        {
          "output_type": "stream",
          "name": "stdout",
          "text": [
            "4 6\n",
            "5 4\n",
            "6 6\n",
            "7 4\n",
            "17 4\n",
            "18 4\n",
            "20 6\n",
            "21 4\n"
          ]
        }
      ],
      "source": [
        "def reverse_complement(dna):\n",
        "\n",
        "    complement = {'A': 'T', 'C': 'G', 'G': 'C', 'T': 'A'}\n",
        "    return ''.join(complement[base] for base in reversed(dna))\n",
        "\n",
        "def find_reverse_palindromes(dna, min_length=4, max_length=12):\n",
        "\n",
        "    results = []\n",
        "\n",
        "    for i in range(len(dna)):\n",
        "        for length in range(min_length, min(max_length + 1, len(dna) - i + 1)):\n",
        "            substring = dna[i:i+length]\n",
        "            if substring == reverse_complement(substring):\n",
        "\n",
        "                results.append((i + 1, length))\n",
        "\n",
        "    return results\n",
        "\n",
        "\n",
        "def parse_fasta(fasta_string):\n",
        "    lines = fasta_string.strip().split('\\n')\n",
        "\n",
        "    sequence = ''.join(lines[1:])\n",
        "    return sequence\n",
        "\n",
        "\n",
        "fasta_data = \">Rosalind_24\\nTCAATGCATGCGGGTCTATATGCAT\"\n",
        "dna_sequence = parse_fasta(fasta_data)\n",
        "results = find_reverse_palindromes(dna_sequence)\n",
        "\n",
        "for position, length in results:\n",
        "    print(position, length)"
      ]
    }
  ]
}