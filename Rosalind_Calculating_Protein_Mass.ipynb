{
  "nbformat": 4,
  "nbformat_minor": 0,
  "metadata": {
    "colab": {
      "provenance": [],
      "authorship_tag": "ABX9TyP81s8yC0x3T/IV5ArrrqKO",
      "include_colab_link": true
    },
    "kernelspec": {
      "name": "python3",
      "display_name": "Python 3"
    },
    "language_info": {
      "name": "python"
    }
  },
  "cells": [
    {
      "cell_type": "markdown",
      "metadata": {
        "id": "view-in-github",
        "colab_type": "text"
      },
      "source": [
        "<a href=\"https://colab.research.google.com/github/EdgeYu97/RosalindSolutions/blob/main/Rosalind_Calculating_Protein_Mass.ipynb\" target=\"_parent\"><img src=\"https://colab.research.google.com/assets/colab-badge.svg\" alt=\"Open In Colab\"/></a>"
      ]
    },
    {
      "cell_type": "code",
      "source": [
        "protein_mass_dict = {\n",
        "    'A': 71.03711,   'C': 103.00919,  'D': 115.02694,  'E': 129.04259,\n",
        "    'F': 147.06841,  'G': 57.02146,   'H': 137.05891,  'I': 113.08406,\n",
        "    'K': 128.09496,  'L': 113.08406,  'M': 131.04049,  'N': 114.04293,\n",
        "    'P': 97.05276,   'Q': 128.05858,  'R': 156.10111,  'S': 87.03203,\n",
        "    'T': 101.04768,  'V': 99.06841,   'W': 186.07931,  'Y': 163.06333\n",
        "}\n",
        "\n",
        "def protein_mass(protein):\n",
        "    total_mass = 0\n",
        "    for i in protein:\n",
        "\n",
        "        total_mass += protein_mass_dict[i]\n",
        "    return total_mass\n",
        "\n",
        "\n",
        "if __name__ == '__main__':\n",
        "    sample_protein = 'SKADYEK'\n",
        "    print(protein_mass(sample_protein))"
      ],
      "metadata": {
        "colab": {
          "base_uri": "https://localhost:8080/"
        },
        "id": "bFYDLb9Kkeg1",
        "outputId": "091413c2-99e2-4929-f5cf-6adc8909654d"
      },
      "execution_count": 11,
      "outputs": [
        {
          "output_type": "stream",
          "name": "stdout",
          "text": [
            "821.3919199999999\n"
          ]
        }
      ]
    }
  ]
}